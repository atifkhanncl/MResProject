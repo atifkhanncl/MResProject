{
 "cells": [
  {
   "cell_type": "code",
   "execution_count": 34,
   "metadata": {},
   "outputs": [],
   "source": [
    "Income = {\n",
    "    'df': 'income_onehot.csv',\n",
    "    'pa': 'sex',\n",
    "    'label': 'label',\n",
    "}\n",
    "\n",
    "COMPAS = {\n",
    "    'df': 'compas_onehot.csv',\n",
    "    'pa': 'race',\n",
    "    'label': 'label',\n",
    "}\n",
    "\n",
    "German = {\n",
    "    'df': 'german_onehot.csv',\n",
    "    'pa': 'gender',\n",
    "    'label': 'label',\n",
    "}\n",
    "\n",
    "DSets = {\n",
    "    'Income': Income,\n",
    "    'COMPAS': COMPAS,\n",
    "    'German': German,\n",
    "}"
   ]
  },
  {
   "cell_type": "markdown",
   "metadata": {},
   "source": [
    "##  Loading analysis ready data from Vlad's github"
   ]
  },
  {
   "cell_type": "code",
   "execution_count": 35,
   "metadata": {},
   "outputs": [],
   "source": [
    "import pandas as pd\n",
    "import numpy as np\n",
    "\n",
    "# Set desired Dataset here, values can be: 'Income', 'COMPAS', 'German'\n",
    "dset = 'Income'\n",
    "\n",
    "url = 'https://raw.githubusercontent.com/vladoxNCL/fairCorrect/master/Datasets/'\n",
    "df = pd.read_csv(url + DSets[dset]['df'], header=0)\n",
    "pa = DSets[dset]['pa']\n",
    "label = DSets[dset]['label']"
   ]
  },
  {
   "cell_type": "markdown",
   "metadata": {},
   "source": [
    "## Splitting data for train/test in 0.9/0.1 proportion"
   ]
  },
  {
   "cell_type": "code",
   "execution_count": 36,
   "metadata": {},
   "outputs": [],
   "source": [
    "def ttSplit(df, ts=0.10):\n",
    "    \"\"\"Train / Test split dataframe df with test proportion ts\"\"\"\n",
    "    \n",
    "    from sklearn.model_selection import train_test_split\n",
    "\n",
    "    train, test = train_test_split(df, test_size=ts)\n",
    "\n",
    "    X_test = test.drop([label], axis=1).values\n",
    "    y_test = test[label].values\n",
    "\n",
    "        \n",
    "    ttdict = {\n",
    "        'train': train,\n",
    "        'test': test,\n",
    "        'X_test': X_test,\n",
    "        'y_test': y_test,\n",
    "        \n",
    "    }\n",
    "\n",
    "    return ttdict"
   ]
  },
  {
   "cell_type": "code",
   "execution_count": 37,
   "metadata": {},
   "outputs": [],
   "source": [
    "ttdict = ttSplit(df)"
   ]
  },
  {
   "cell_type": "markdown",
   "metadata": {},
   "source": [
    "## Function to ascertain \"favoured\" subgroup"
   ]
  },
  {
   "cell_type": "code",
   "execution_count": 38,
   "metadata": {},
   "outputs": [],
   "source": [
    "def findFav(ttdict, pa=pa, label=label):\n",
    "    train = ttdict['train']\n",
    "\n",
    "    pos_rates = [train[(train[pa] == u) & (train[label] == 1)].shape[0] / train[train[pa] == u].shape[0]\n",
    "                 for u in train[pa].unique()]\n",
    "    max_value = max(pos_rates)\n",
    "    max_index = pos_rates.index(max_value)\n",
    "\n",
    "    # Favoured group\n",
    "    fav = train[pa].unique()[max_index]\n",
    "    return fav"
   ]
  },
  {
   "cell_type": "code",
   "execution_count": 39,
   "metadata": {},
   "outputs": [],
   "source": [
    "fav = findFav(ttdict)"
   ]
  },
  {
   "cell_type": "code",
   "execution_count": 40,
   "metadata": {},
   "outputs": [
    {
     "data": {
      "text/plain": [
       "1"
      ]
     },
     "execution_count": 40,
     "metadata": {},
     "output_type": "execute_result"
    }
   ],
   "source": [
    "fav"
   ]
  },
  {
   "cell_type": "markdown",
   "metadata": {},
   "source": [
    "## Function for preferential resampling "
   ]
  },
  {
   "cell_type": "code",
   "execution_count": 41,
   "metadata": {},
   "outputs": [],
   "source": [
    "def fairCorrectPSP(df, pa, fav, d=1):\n",
    "    from sklearn.naive_bayes import GaussianNB as nb\n",
    "    import math\n",
    "    \n",
    "    df2 = df.copy()\n",
    "    \n",
    "    # Train NB model and get prediction confidence\n",
    "    Xnb = df.drop([label], axis=1).values\n",
    "    ynb = df[label].values\n",
    "    \n",
    "    model = nb()\n",
    "    model.fit(Xnb, ynb)\n",
    "    logProbs = model.predict_log_proba(Xnb)\n",
    "    df2['pPos'] = [logProbs[i][1] for i in range(len(logProbs))]\n",
    "    \n",
    "    # subset favoured positive, favoured negative, unfavoured positive, unfavoured negative\n",
    "    fav_pos = (df2[(df2[pa] == fav) & (df2[label] == 1)]\n",
    "               .sort_values('pPos', ascending=True))\n",
    "    fav_neg = (df2[(df2[pa] == fav) & (df2[label] == 0)]\n",
    "               .sort_values('pPos', ascending=False))\n",
    "    unfav_pos = (df2[(df2[pa] != fav) & (df2[label] == 1)]\n",
    "                 .sort_values('pPos', ascending=True))\n",
    "    unfav_neg = (df2[(df2[pa] != fav) & (df2[label] == 0)]\n",
    "                 .sort_values('pPos', ascending=False))\n",
    "    \n",
    "    # drop aux columns\n",
    "    fav_pos = fav_pos.drop(['pPos'], axis=1)\n",
    "    fav_neg = fav_neg.drop(['pPos'], axis=1)\n",
    "    unfav_pos = unfav_pos.drop(['pPos'], axis=1)\n",
    "    unfav_neg = unfav_neg.drop(['pPos'], axis=1)\n",
    "    \n",
    "    if d < 1:\n",
    "\n",
    "        # get favoured and unfavoured number of rows\n",
    "        fav_size = fav_pos.shape[0] + fav_neg.shape[0]\n",
    "        unfav_size = unfav_pos.shape[0] + unfav_neg.shape[0]\n",
    "\n",
    "        # get positive ratios for favoured and unfavoured\n",
    "        fav_pr = fav_pos.shape[0] / fav_size\n",
    "        unfav_pr = unfav_pos.shape[0] / unfav_size\n",
    "        pr = df[df[label] == 1].shape[0] / df.shape[0]\n",
    "\n",
    "        # coefficients for fitting quad function\n",
    "        a = ((fav_pr + unfav_pr) / 2) - pr\n",
    "        b = (fav_pr - unfav_pr) / 2\n",
    "        c = pr\n",
    "\n",
    "        # corrected ratios\n",
    "        corr_fpr = (a * (d ** 2)) + (b * d) + c\n",
    "        corr_upr = (a * (d ** 2)) - (b * d) + c\n",
    "\n",
    "        # number of elements to remove or add\n",
    "        fav_move = math.floor((fav_pr - corr_fpr) * fav_size)\n",
    "        unfav_move = math.floor((corr_upr - unfav_pr) * unfav_size)\n",
    "\n",
    "        # elements to add\n",
    "        ext_fn = pd.concat([fav_neg] * math.ceil(fav_move / fav_neg.shape[0]), ignore_index=True)\n",
    "        ext_up = pd.concat([unfav_pos] * math.ceil(unfav_move / unfav_pos.shape[0]), ignore_index=True)\n",
    "    \n",
    "        # remove from fp and un\n",
    "        fav_pos = fav_pos.tail(fav_pos.shape[0] - fav_move)\n",
    "        unfav_neg = unfav_neg.tail(unfav_neg.shape[0] - unfav_move)\n",
    "    \n",
    "        # add to fn and up\n",
    "        fav_neg = pd.concat([fav_neg, ext_fn.head(fav_move)], ignore_index=True) \n",
    "        unfav_pos = pd.concat([unfav_pos, ext_up.head(unfav_move)], ignore_index=True)\n",
    "    \n",
    "    # concatenate df's\n",
    "    corr_dfs = [fav_pos, fav_neg, unfav_pos, unfav_neg]\n",
    "    corr_df = pd.concat(corr_dfs)\n",
    "    \n",
    "    return corr_df"
   ]
  },
  {
   "cell_type": "markdown",
   "metadata": {},
   "source": [
    "## Function that returns \"corrected\" training set of different d values   "
   ]
  },
  {
   "cell_type": "code",
   "execution_count": 42,
   "metadata": {},
   "outputs": [],
   "source": [
    "def correctTrains(train, pa, fav, FCfun= fairCorrectPSP):\n",
    "    corr_trains = []\n",
    "    Xs = []\n",
    "    ys = []\n",
    "    ds =[]\n",
    "\n",
    "    for i in range(11):\n",
    "        tdf = FCfun(train, pa, fav, d=1-(0.2*i))\n",
    "        corr_trains.append(tdf)\n",
    "        \n",
    "    for i in range(11):\n",
    "        X = corr_trains[i].drop([label], axis=1).values\n",
    "        y = corr_trains[i][label].values\n",
    "        Xs.append(X)\n",
    "        ys.append(y)\n",
    "    \n",
    "    corrected = {\n",
    "        'corr_trains': corr_trains,\n",
    "        'Xs': Xs,\n",
    "        'ys': ys,\n",
    "    }\n",
    "    \n",
    "    return corrected\n"
   ]
  },
  {
   "cell_type": "code",
   "execution_count": 43,
   "metadata": {},
   "outputs": [],
   "source": [
    "faircorrected = correctTrains(ttdict['train'],pa, fav)"
   ]
  },
  {
   "cell_type": "markdown",
   "metadata": {},
   "source": [
    "## Function that trains model on given training datasets and predicts for test set "
   ]
  },
  {
   "cell_type": "code",
   "execution_count": 47,
   "metadata": {},
   "outputs": [],
   "source": [
    "def makePreds(Xs, ys, X_test):\n",
    "    from sklearn.linear_model import LogisticRegression\n",
    "\n",
    "    models = []\n",
    "    preds = []\n",
    "    classpred = []\n",
    "    \n",
    "\n",
    "    for i in range(11):\n",
    "        model = LogisticRegression(max_iter=10000)\n",
    "        model.fit(Xs[i], ys[i])\n",
    "        models.append(model)\n",
    "        \n",
    "    \n",
    "        p = model.predict_proba(X_test)[:, 1]\n",
    "        cp = model.predict(X_test)\n",
    "        classpred.append(cp)\n",
    "        preds.append(p)\n",
    "    \n",
    "    outputs = {\n",
    "        'models': models,\n",
    "        'preds': preds,\n",
    "        'classpred' : classpred,\n",
    "        \n",
    "    }\n",
    "    \n",
    "    return outputs"
   ]
  },
  {
   "cell_type": "code",
   "execution_count": 48,
   "metadata": {},
   "outputs": [],
   "source": [
    "allDataOutputs= makePreds(faircorrected['Xs'], faircorrected['ys'], ttdict['X_test'])\n"
   ]
  },
  {
   "cell_type": "markdown",
   "metadata": {},
   "source": [
    "##  Reconstructing the test sets i.e. adding predictions  "
   ]
  },
  {
   "cell_type": "code",
   "execution_count": 49,
   "metadata": {},
   "outputs": [],
   "source": [
    "classpred = []\n",
    "for i in range(11):\n",
    "    dfcp = pd.DataFrame(allDataOutputs['classpred'][i])\n",
    "    dfpc =dfcp.rename(columns={0: \"classpred\"})\n",
    "    classpred.append(dfpc)"
   ]
  },
  {
   "cell_type": "code",
   "execution_count": 50,
   "metadata": {},
   "outputs": [],
   "source": [
    "\n",
    "preds = []\n",
    "for i in range(11):\n",
    "    df = pd.DataFrame(allDataOutputs['preds'][i])\n",
    "    df =df.rename(columns={0: \"preds\"})\n",
    "    preds.append(df)\n"
   ]
  },
  {
   "cell_type": "code",
   "execution_count": 51,
   "metadata": {},
   "outputs": [],
   "source": [
    "dfalltest= ttdict['test']\n",
    "allDfList =[]\n",
    "for i in range(11):\n",
    "    dfp = preds[i]\n",
    "    dfcp = classpred[i]\n",
    "    dfout = dfalltest.copy()\n",
    "    dfout['preds'] = dfp['preds'].values\n",
    "    dfout['classpred'] = dfcp['classpred'].values\n",
    "    allDfList.append(dfout)\n",
    "                         \n",
    "                         "
   ]
  },
  {
   "cell_type": "markdown",
   "metadata": {},
   "source": [
    "## Functions for Five Nuanced Machine Learning Bias Metrics  "
   ]
  },
  {
   "cell_type": "code",
   "execution_count": 52,
   "metadata": {},
   "outputs": [],
   "source": [
    "def calculate_sub_auc(allDfList):\n",
    "    from sklearn import metrics\n",
    "        \n",
    "    aucScore = []\n",
    "    \n",
    "    for i in range(11):\n",
    "        dff= allDfList[i]\n",
    "        dfsub = dff.loc[(dff[pa] == 0)]\n",
    "        true_labels = dfsub['label'].values\n",
    "        predicted_labels = dfsub['preds'].values\n",
    "        auc= metrics.roc_auc_score(true_labels, predicted_labels)\n",
    "        aucScore.append(auc)\n",
    "\n",
    "    \n",
    "    return aucScore"
   ]
  },
  {
   "cell_type": "code",
   "execution_count": 53,
   "metadata": {},
   "outputs": [],
   "source": [
    "def calculate_bpsn_auc(allDfList):\n",
    "    from sklearn import metrics\n",
    "        \n",
    "    aucScore = []\n",
    "    \n",
    "    for i in range(11):\n",
    "        dff= allDfList[i]\n",
    "        dffiltered= dff.loc[( ((dff[pa] == 1) & (dff[label] == 1)) |((dff[pa] == 0) & (dff[label] == 0)) )]\n",
    "        true_labels = dffiltered['label'].values\n",
    "        predicted_labels = dffiltered['preds'].values\n",
    "        auc= metrics.roc_auc_score(true_labels, predicted_labels)\n",
    "        aucScore.append(auc)\n",
    "\n",
    "    \n",
    "    return aucScore"
   ]
  },
  {
   "cell_type": "code",
   "execution_count": 54,
   "metadata": {},
   "outputs": [],
   "source": [
    "def calculate_bnsp_auc(allDfList):\n",
    "    from sklearn import metrics\n",
    "        \n",
    "    aucScore = []\n",
    "    \n",
    "    for i in range(11):\n",
    "        dff= allDfList[i]\n",
    "        dffiltered= dff.loc[( ((dff[pa] == 1) & (dff[label] == 0)) |((dff[pa] == 0) & (dff[label] == 1)) )]\n",
    "        true_labels = dffiltered['label'].values\n",
    "        predicted_labels = dffiltered['preds'].values\n",
    "        auc= metrics.roc_auc_score(true_labels, predicted_labels)\n",
    "        aucScore.append(auc)\n",
    "\n",
    "    \n",
    "    return aucScore"
   ]
  },
  {
   "cell_type": "code",
   "execution_count": 75,
   "metadata": {},
   "outputs": [],
   "source": [
    "def normalized_mwu(data1, data2):\n",
    "\n",
    "    import scipy.stats as stats\n",
    "    scores_1 = data1\n",
    "    scores_2 = data2\n",
    "    n1 = len(scores_1)\n",
    "    n2 = len(scores_2)\n",
    "    if n1 == 0 or n2 == 0:\n",
    "        return None\n",
    "    u, _ = stats.mannwhitneyu(scores_1, scores_2, alternative='less')\n",
    "    return u / (n1 * n2)"
   ]
  },
  {
   "cell_type": "code",
   "execution_count": 76,
   "metadata": {},
   "outputs": [],
   "source": [
    "def compute_positive_aeg(allDfList):\n",
    "    paeg = []\n",
    "    for i in range(11):\n",
    "        dff= allDfList[i]\n",
    "        data1 = dff.loc[((dff[pa] == 1) & (dff[label] == 1))]\n",
    "        data2 = dff.loc[((dff[pa] == 0) & (dff[label] == 1))]\n",
    "        data1 = data1['preds'].values\n",
    "        data2 = data2['preds'].values\n",
    "        mwu = normalized_mwu(data1, data2)\n",
    "    \n",
    "        pag= 0.5 - mwu\n",
    "        paeg.append(pag)\n",
    "\n",
    "\n",
    "    return paeg"
   ]
  },
  {
   "cell_type": "code",
   "execution_count": 77,
   "metadata": {},
   "outputs": [],
   "source": [
    "def compute_negative_aeg(allDfList):\n",
    "    naeg = []\n",
    "    for i in range(11):\n",
    "        dff= allDfList[i]\n",
    "        data1 = dff.loc[((dff[pa] == 1) & (dff[label] == 0))]\n",
    "        data2 = dff.loc[((dff[pa] == 0) & (dff[label] == 0))]\n",
    "        data1 = data1['preds'].values\n",
    "        data2 = data2['preds'].values\n",
    "        mwu = normalized_mwu(data1, data2)\n",
    "        if mwu is None:\n",
    "            return None\n",
    "        nag= 0.5 - mwu\n",
    "        naeg.append(nag)\n",
    "\n",
    "\n",
    "    return naeg"
   ]
  },
  {
   "cell_type": "code",
   "execution_count": 78,
   "metadata": {},
   "outputs": [],
   "source": [
    "subAuc = calculate_sub_auc(allDfList)\n",
    "bpsnAuc = calculate_bpsn_auc(allDfList)\n",
    "bnspAuc = calculate_bnsp_auc(allDfList)\n",
    "pAEGScore = compute_positive_aeg(allDfList)\n",
    "nAEGScore = compute_negative_aeg(allDfList)"
   ]
  },
  {
   "cell_type": "code",
   "execution_count": 79,
   "metadata": {},
   "outputs": [
    {
     "data": {
      "text/plain": [
       "[0.9289025359928268,\n",
       " 0.9281073948129727,\n",
       " 0.9258657734016816,\n",
       " 0.9227782571182054,\n",
       " 0.9211118442200004,\n",
       " 0.9232181224517417,\n",
       " 0.9239540509905428,\n",
       " 0.9216616758869208,\n",
       " 0.9240809352213707,\n",
       " 0.9238694615033244,\n",
       " 0.9211456800148878]"
      ]
     },
     "execution_count": 79,
     "metadata": {},
     "output_type": "execute_result"
    }
   ],
   "source": [
    "subAuc"
   ]
  },
  {
   "cell_type": "code",
   "execution_count": 80,
   "metadata": {},
   "outputs": [
    {
     "data": {
      "text/plain": [
       "[0.9742516500955606,\n",
       " 0.9459903535273229,\n",
       " 0.9167874814101183,\n",
       " 0.8937921487564655,\n",
       " 0.8611082531279326,\n",
       " 0.8258412603394037,\n",
       " 0.7877822778022004,\n",
       " 0.7443154714581014,\n",
       " 0.6981985352576394,\n",
       " 0.640165368103037,\n",
       " 0.5468885916586383]"
      ]
     },
     "execution_count": 80,
     "metadata": {},
     "output_type": "execute_result"
    }
   ],
   "source": [
    "bpsnAuc"
   ]
  },
  {
   "cell_type": "code",
   "execution_count": 81,
   "metadata": {},
   "outputs": [
    {
     "data": {
      "text/plain": [
       "[0.7722303365887688,\n",
       " 0.8519031217300315,\n",
       " 0.8920855859783746,\n",
       " 0.9097161667247994,\n",
       " 0.9302461196372516,\n",
       " 0.9541986396930588,\n",
       " 0.9674856121381235,\n",
       " 0.9759929804673876,\n",
       " 0.9837101063829787,\n",
       " 0.98925815312173,\n",
       " 0.9933674136728287]"
      ]
     },
     "execution_count": 81,
     "metadata": {},
     "output_type": "execute_result"
    }
   ],
   "source": [
    "bnspAuc"
   ]
  },
  {
   "cell_type": "code",
   "execution_count": 82,
   "metadata": {},
   "outputs": [
    {
     "data": {
      "text/plain": [
       "[-0.13425536129958893,\n",
       " -0.01607151701253029,\n",
       " 0.0782279233321777,\n",
       " 0.12873309890545293,\n",
       " 0.17696003169729085,\n",
       " 0.22189341785944233,\n",
       " 0.2519315536625229,\n",
       " 0.2775617849536922,\n",
       " 0.29453717002624935,\n",
       " 0.31271358526075976,\n",
       " 0.32827745034916544]"
      ]
     },
     "execution_count": 82,
     "metadata": {},
     "output_type": "execute_result"
    }
   ],
   "source": [
    "pAEGScore"
   ]
  },
  {
   "cell_type": "code",
   "execution_count": 83,
   "metadata": {},
   "outputs": [
    {
     "data": {
      "text/plain": [
       "[-0.2390522418373845,\n",
       " -0.12994381683244405,\n",
       " -0.06072420569571613,\n",
       " -0.01199690402476783,\n",
       " 0.049072442526842786,\n",
       " 0.10045108468919484,\n",
       " 0.15416749006433478,\n",
       " 0.1952646400105395,\n",
       " 0.25017565816920273,\n",
       " 0.3013614880442659,\n",
       " 0.365216663373076]"
      ]
     },
     "execution_count": 83,
     "metadata": {},
     "output_type": "execute_result"
    }
   ],
   "source": [
    "nAEGScore"
   ]
  },
  {
   "cell_type": "code",
   "execution_count": 84,
   "metadata": {},
   "outputs": [],
   "source": [
    "from sklearn.metrics import accuracy_score\n",
    "accs = []\n",
    "for i in range(11):\n",
    "        dff= allDfList[i]\n",
    "        true_labels = dff['label'].values\n",
    "        classpredicted_labels = dff['classpred'].values\n",
    "        acc= accuracy_score(true_labels, classpredicted_labels)\n",
    "        accs.append(acc)\n",
    "\n",
    "    \n"
   ]
  },
  {
   "cell_type": "code",
   "execution_count": 85,
   "metadata": {},
   "outputs": [
    {
     "data": {
      "text/plain": [
       "[0.8513969910961007,\n",
       " 0.8458704329137243,\n",
       " 0.842493091802272,\n",
       " 0.8437212158428001,\n",
       " 0.8366595026097636,\n",
       " 0.829597789376727,\n",
       " 0.8252993552348787,\n",
       " 0.815781393920786,\n",
       " 0.8062634326066933,\n",
       " 0.801657967454713,\n",
       " 0.7933681301811483]"
      ]
     },
     "execution_count": 85,
     "metadata": {},
     "output_type": "execute_result"
    }
   ],
   "source": [
    "accs"
   ]
  },
  {
   "cell_type": "code",
   "execution_count": 86,
   "metadata": {},
   "outputs": [],
   "source": [
    "dValues =[]\n",
    "for i in range(11):\n",
    "    D=1-(0.2*i)\n",
    "    dValues.append(D)"
   ]
  },
  {
   "cell_type": "markdown",
   "metadata": {},
   "source": [
    "## Plots "
   ]
  },
  {
   "cell_type": "code",
   "execution_count": 87,
   "metadata": {},
   "outputs": [
    {
     "data": {
      "image/png": "[encoded data removed]",
      "text/plain": [
       "<Figure size 432x288 with 1 Axes>"
      ]
     },
     "metadata": {
      "needs_background": "light"
     },
     "output_type": "display_data"
    }
   ],
   "source": [
    "from matplotlib import pyplot as plt\n",
    "\n",
    "plt.plot(dValues, subAuc)\n",
    "plt.plot(dValues,bpsnAuc)\n",
    "plt.plot(dValues, bnspAuc)\n",
    "plt.plot(dValues, pAEGScore)\n",
    "plt.plot(dValues, nAEGScore)\n",
    "plt.plot(dValues, accs)\n",
    "plt.title(\"ML Bias Nuanced Metrices at different d values\")\n",
    "plt.xlabel(\"d\")\n",
    "plt.ylabel(\"Metrices Score\" )\n",
    "plt.legend([\"Sub-Group AUC\", \"BPSN AUC\", \"BNSP AUC\", \"Positive AEG\", \"Negative AEG\", \"Accuracy\"])\n",
    "plt.show()"
   ]
  },
  {
   "cell_type": "code",
   "execution_count": 66,
   "metadata": {},
   "outputs": [],
   "source": [
    "overallplot= allDfList[0]\n",
    "subplot = overallplot.loc[(overallplot[pa] == 0)]\n"
   ]
  },
  {
   "cell_type": "code",
   "execution_count": 67,
   "metadata": {},
   "outputs": [
    {
     "data": {
      "image/png": "[encoded data removed]",
      "text/plain": [
       "<Figure size 432x288 with 1 Axes>"
      ]
     },
     "metadata": {
      "needs_background": "light"
     },
     "output_type": "display_data"
    }
   ],
   "source": [
    "subplot.pivot(columns=\"label\", values=\"preds\").plot.hist(bins=10)\n",
    "\n",
    "plt.show()"
   ]
  },
  {
   "cell_type": "markdown",
   "metadata": {},
   "source": [
    "## Redundant functions  "
   ]
  },
  {
   "cell_type": "code",
   "execution_count": 68,
   "metadata": {},
   "outputs": [],
   "source": [
    "def calculate_overall_auc(allDfList):\n",
    "    from sklearn import metrics\n",
    "        \n",
    "    aucScore = []\n",
    "    \n",
    "    for i in range(11):\n",
    "        dff= allDfList[i]\n",
    "        true_labels = dff['label'].values\n",
    "        predicted_labels = dff['preds'].values\n",
    "        auc= metrics.roc_auc_score(true_labels, predicted_labels)\n",
    "        aucScore.append(auc)\n",
    "\n",
    "    \n",
    "    return aucScore\n"
   ]
  },
  {
   "cell_type": "code",
   "execution_count": 69,
   "metadata": {},
   "outputs": [],
   "source": [
    "overallAuc= calculate_overall_auc(allDfList)"
   ]
  },
  {
   "cell_type": "code",
   "execution_count": 70,
   "metadata": {},
   "outputs": [
    {
     "data": {
      "text/plain": [
       "[0.9049151757346693,\n",
       " 0.9028721931554667,\n",
       " 0.8960417921717818,\n",
       " 0.8892624528582156,\n",
       " 0.8789722368931397,\n",
       " 0.8716198721704614,\n",
       " 0.8604389137377556,\n",
       " 0.8452483247646005,\n",
       " 0.830863375475544,\n",
       " 0.8114398256269755,\n",
       " 0.7787046531107389]"
      ]
     },
     "execution_count": 70,
     "metadata": {},
     "output_type": "execute_result"
    }
   ],
   "source": [
    "overallAuc"
   ]
  },
  {
   "cell_type": "code",
   "execution_count": null,
   "metadata": {},
   "outputs": [],
   "source": []
  }
 ],
 "metadata": {
  "kernelspec": {
   "display_name": "Python 3",
   "language": "python",
   "name": "python3"
  },
  "language_info": {
   "codemirror_mode": {
    "name": "ipython",
    "version": 3
   },
   "file_extension": ".py",
   "mimetype": "text/x-python",
   "name": "python",
   "nbconvert_exporter": "python",
   "pygments_lexer": "ipython3",
   "version": "3.7.4"
  }
 },
 "nbformat": 4,
 "nbformat_minor": 2
}
